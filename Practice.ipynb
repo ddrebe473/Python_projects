{
 "cells": [
  {
   "cell_type": "code",
   "execution_count": 4,
   "metadata": {},
   "outputs": [
    {
     "name": "stdout",
     "output_type": "stream",
     "text": [
      "[1.68502527 2.42516178 2.90939547 1.42547815 4.85505262 3.61688522\n",
      " 1.39743385 3.33749752 1.28312187 4.18967846 2.92003671 0.13188131\n",
      " 2.70083149 2.35537595 2.92903223 2.45866521 4.64223551 1.24033733\n",
      " 1.2418185  2.49304118 2.59533889 0.67778824 0.84768235 3.44056556\n",
      " 2.09724104 1.37062159 2.05808191 2.55073051 2.47458058 4.87581423\n",
      " 3.88028266 0.43955993 2.109221   3.6827687  0.49807114 4.47635678\n",
      " 4.65559751 1.83636547 1.62428792 1.88811474 3.45952909 3.25836854\n",
      " 2.82711706 1.55339429 2.99102958 0.19807688 0.21813393 0.17133802\n",
      " 1.47653921 4.86844227 2.05142001 3.56591298 4.82474258 3.26355133\n",
      " 2.84577088 1.15289218 2.73478567 3.60595265 1.78705625 4.87620449\n",
      " 4.29693397 4.45622224 1.29869929 3.55089124 2.04023297 0.55170433\n",
      " 2.37911929 4.20043181 1.14926767 4.60621166 3.73600803 0.66084225\n",
      " 4.41798872 2.87372804 3.59398617 0.8929121  3.38956758 2.59599352\n",
      " 2.90002746 1.36759671 0.86370768 4.17157218 3.93651886 1.50919055\n",
      " 3.87935312 3.75553818 3.95887209 4.41702028 2.66954198 0.2538951\n",
      " 3.91712863 0.12289688 1.4427618  0.77035081 4.83719031 4.01937333\n",
      " 4.10688607 3.68039477 3.93412823 0.70955482 1.71229587 0.74581451\n",
      " 1.27476583 2.85371073 3.96485547 2.5754489  3.95611228 0.21504557\n",
      " 3.3792597  2.51405025 2.24099391 2.48580468 4.40745952 3.42426782\n",
      " 1.45596099 1.4661471  1.93098752 1.16379305 4.84597215 1.56927063\n",
      " 2.69372743 0.95858489 4.8752701  4.04152473 1.84190273 0.38602836\n",
      " 3.70296486 3.9094279  1.38256521 3.70355408 4.48977848 2.00445116\n",
      " 1.10818752 3.25851007 2.27089618 3.99941033 3.77481154 0.09352432\n",
      " 0.98917559 3.04711175 4.47597379 0.6833877  0.31128062 0.64298873\n",
      " 2.73130715 2.21390735 3.1572373  3.45789314 2.34630985 0.74842377\n",
      " 4.70189011 0.93541783 1.43794371 0.81028888 4.25996063 0.89854174\n",
      " 0.60582586 2.38216973 4.50901299 4.90618046 1.38901431 1.03320468\n",
      " 4.60049704 1.69066993 3.99216596 1.20307939 2.98501774 3.74187457\n",
      " 2.79176518 3.62976852 3.8109492  4.27273349 1.83661837 4.85884584\n",
      " 2.54418101 0.15975422 0.89553256 2.56437898 1.48931637 4.57428789\n",
      " 2.23305898 2.11137125 4.3767348  0.32150507 0.95457921 4.39337163\n",
      " 3.2960812  4.38668303 1.6367452  4.21527427 2.91479063 1.75493567\n",
      " 4.70064519 0.79625253 4.28042821 1.94758727 3.6505989  0.85800726\n",
      " 3.42767631 1.44256392 3.54945586 3.43156028 0.0415887  2.35385773\n",
      " 4.87394539 4.27747843 0.92882866 3.62041652 1.29688456 3.62050265\n",
      " 4.74474473 1.70423234 1.88183949 4.45986341 1.01674751 3.98419103\n",
      " 2.37144248 4.35877509 1.32487086 2.85612309 0.8555944  0.3504535\n",
      " 3.24351916 3.30765143 3.30842933 4.98044495 3.65796651 2.44645542\n",
      " 2.54346077 1.85846902 0.76469432 2.46908601 0.73324588 2.27040899\n",
      " 2.21804166 0.24951827 1.09825998 4.40130517 1.09804384 2.62611742\n",
      " 0.26148474 0.09229211 4.65878755 4.59766557 4.97971642 0.29144419\n",
      " 1.6794865  3.85401027 2.83410313 0.75202205]\n"
     ]
    }
   ],
   "source": [
    "import numpy as np\n",
    "import numpy\n",
    "\n",
    "x = numpy.random.uniform(0.0, 5.0, 250)\n",
    "\n",
    "print(x)\n"
   ]
  },
  {
   "cell_type": "code",
   "execution_count": 10,
   "metadata": {},
   "outputs": [
    {
     "name": "stdout",
     "output_type": "stream",
     "text": [
      "[0 1 2 3 4 5]\n"
     ]
    }
   ],
   "source": [
    "a = np.arange(6)\n",
    "[0, 1, 2, 3, 4, 5]\n",
    "print(a)\n",
    "\n"
   ]
  },
  {
   "cell_type": "code",
   "execution_count": 11,
   "metadata": {},
   "outputs": [
    {
     "name": "stdout",
     "output_type": "stream",
     "text": [
      "[ 1  2  2  3  4  4  6  8  9 11 18]\n"
     ]
    }
   ],
   "source": [
    "arr = np.array([6, 1, 4, 2, 18, 9, 3, 4, 2, 8, 11])\n",
    "\n",
    "arr = np.sort(arr)[::+1]\n",
    "print(arr)\n"
   ]
  },
  {
   "cell_type": "code",
   "execution_count": 12,
   "metadata": {},
   "outputs": [
    {
     "name": "stdout",
     "output_type": "stream",
     "text": [
      "In if-clause\n"
     ]
    }
   ],
   "source": [
    "x = True\n",
    "\n",
    "if x == True:\n",
    "    print('In if-clause')\n",
    "else:\n",
    "    print('In else-clause')"
   ]
  },
  {
   "cell_type": "code",
   "execution_count": 13,
   "metadata": {},
   "outputs": [
    {
     "name": "stdout",
     "output_type": "stream",
     "text": [
      "In for loop body\n",
      "In for loop body\n",
      "In else loop body\n"
     ]
    }
   ],
   "source": [
    "for x in range(2):\n",
    "    print('In for loop body')\n",
    "\n",
    "else:\n",
    "    print('In else loop body')\n",
    "\n",
    "\n",
    "def foo(): print('In function definition')\n"
   ]
  },
  {
   "cell_type": "code",
   "execution_count": 5,
   "metadata": {},
   "outputs": [
    {
     "name": "stdout",
     "output_type": "stream",
     "text": [
      "<class 'int'>\n",
      "<class 'float'>\n",
      "<class 'str'>\n",
      "<class 'int'> <class 'float'> <class 'str'>\n"
     ]
    }
   ],
   "source": [
    "a = 2\n",
    "print(type(a))  # the `type` function tells us the type of a value\n",
    "\n",
    "a = 1.5\n",
    "print(type(a))\n",
    "\n",
    "a = 'hello'\n",
    "print(type(a))\n",
    "print(type(2), type(1.5), type('hello'))\n"
   ]
  },
  {
   "cell_type": "code",
   "execution_count": 15,
   "metadata": {},
   "outputs": [
    {
     "name": "stdout",
     "output_type": "stream",
     "text": [
      "(1, 500, -123456789, 6598293784982739874982734)\n",
      "(3, -1, 6, 14, 0.4, 1267650600228229401496703205376, 25)\n",
      "(True, True, True, True, True, True)\n"
     ]
    }
   ],
   "source": [
    "\n",
    "print((\n",
    "    1,\n",
    "    500,\n",
    "    -123456789,\n",
    "    6598293784982739874982734\n",
    "))\n",
    "\n",
    "print((\n",
    "    1 + 2,\n",
    "    1 - 2,\n",
    "    2 * 3,\n",
    "    2 * 3 + 2 * 4,\n",
    "    2 / 5,\n",
    "    2 ** 100,  # exponentiation\n",
    "    abs(-25)\n",
    "))\n",
    "\n",
    "x = 10\n",
    "y = 20\n",
    "z = 30\n",
    "print((\n",
    "    0 <= x < 100,\n",
    "    0 <= x and x < 100,\n",
    "    x < y < z < 40,\n",
    "    x < y and y < z and z < 40,\n",
    "    x < z > y,\n",
    "    x < z and z > y,\n",
    "))\n"
   ]
  },
  {
   "cell_type": "code",
   "execution_count": 8,
   "metadata": {},
   "outputs": [
    {
     "name": "stdout",
     "output_type": "stream",
     "text": [
      "[[9. 8. 7.]\n",
      " [6. 5. 4.]]\n"
     ]
    }
   ],
   "source": [
    "b=np.array([[9.0,8.0,7.0],[6.0,5.0,4.0]])\n",
    "print(b)"
   ]
  },
  {
   "cell_type": "code",
   "execution_count": 9,
   "metadata": {},
   "outputs": [
    {
     "data": {
      "text/plain": [
       "2"
      ]
     },
     "execution_count": 9,
     "metadata": {},
     "output_type": "execute_result"
    }
   ],
   "source": [
    "#Get Dimension\n",
    "b.ndim"
   ]
  },
  {
   "cell_type": "code",
   "execution_count": 10,
   "metadata": {},
   "outputs": [
    {
     "data": {
      "text/plain": [
       "(2, 3)"
      ]
     },
     "execution_count": 10,
     "metadata": {},
     "output_type": "execute_result"
    }
   ],
   "source": [
    "#Get Shape\n",
    "b.shape"
   ]
  },
  {
   "cell_type": "code",
   "execution_count": 11,
   "metadata": {},
   "outputs": [
    {
     "data": {
      "text/plain": [
       "dtype('float64')"
      ]
     },
     "execution_count": 11,
     "metadata": {},
     "output_type": "execute_result"
    }
   ],
   "source": [
    "#get type\n",
    "b.dtype"
   ]
  },
  {
   "cell_type": "code",
   "execution_count": 12,
   "metadata": {
    "vscode": {
     "languageId": "powershell"
    }
   },
   "outputs": [
    {
     "data": {
      "text/plain": [
       "8"
      ]
     },
     "execution_count": 12,
     "metadata": {},
     "output_type": "execute_result"
    }
   ],
   "source": [
    "#get size\n",
    "b.itemsize"
   ]
  },
  {
   "cell_type": "code",
   "execution_count": 13,
   "metadata": {},
   "outputs": [
    {
     "data": {
      "text/plain": [
       "48"
      ]
     },
     "execution_count": 13,
     "metadata": {},
     "output_type": "execute_result"
    }
   ],
   "source": [
    "#get total size\n",
    "b.size*b.itemsize\n",
    "\n",
    "b.nbytes #shorthand"
   ]
  },
  {
   "cell_type": "code",
   "execution_count": 14,
   "metadata": {},
   "outputs": [
    {
     "name": "stdout",
     "output_type": "stream",
     "text": [
      "[[ 1  2  3  4  5  6  7]\n",
      " [ 8  9 10 11 12 13 14]]\n"
     ]
    }
   ],
   "source": [
    "arr2 = np.array([[1,2,3,4,5,6,7],[8,9,10,11,12,13,14]])\n",
    "print(arr2)"
   ]
  },
  {
   "cell_type": "code",
   "execution_count": 20,
   "metadata": {},
   "outputs": [
    {
     "data": {
      "text/plain": [
       "20"
      ]
     },
     "execution_count": 20,
     "metadata": {},
     "output_type": "execute_result"
    }
   ],
   "source": [
    "#Get a specific element [row,column]\n",
    "arr2[1,5]\n",
    "arr2[1,-2]"
   ]
  },
  {
   "cell_type": "code",
   "execution_count": 16,
   "metadata": {},
   "outputs": [
    {
     "data": {
      "text/plain": [
       "array([1, 2, 3, 4, 5, 6, 7])"
      ]
     },
     "execution_count": 16,
     "metadata": {},
     "output_type": "execute_result"
    }
   ],
   "source": [
    "#Get a specifi row\n",
    "arr2[0,:]"
   ]
  },
  {
   "cell_type": "code",
   "execution_count": 17,
   "metadata": {},
   "outputs": [
    {
     "data": {
      "text/plain": [
       "array([2, 9])"
      ]
     },
     "execution_count": 17,
     "metadata": {},
     "output_type": "execute_result"
    }
   ],
   "source": [
    "#Get a specific column\n",
    "arr2[: ,1]"
   ]
  },
  {
   "cell_type": "code",
   "execution_count": 18,
   "metadata": {},
   "outputs": [
    {
     "data": {
      "text/plain": [
       "array([2, 4, 6])"
      ]
     },
     "execution_count": 18,
     "metadata": {},
     "output_type": "execute_result"
    }
   ],
   "source": [
    "#Getting a little more fancy [startindex:endindex:stepindex]\n",
    "arr2[0,1:6:2]\n",
    "arr2[0,1:-1:2]"
   ]
  },
  {
   "cell_type": "code",
   "execution_count": 19,
   "metadata": {},
   "outputs": [
    {
     "name": "stdout",
     "output_type": "stream",
     "text": [
      "[[ 1  2  3  4  5  6  7]\n",
      " [ 8  9 10 11 12 20 14]]\n",
      "[[ 1  2  5  4  5  6  7]\n",
      " [ 8  9  5 11 12 20 14]]\n",
      "[[ 1  2  1  4  5  6  7]\n",
      " [ 8  9  2 11 12 20 14]]\n"
     ]
    }
   ],
   "source": [
    "arr2[1,5]=20\n",
    "print(arr2)\n",
    "\n",
    "arr2[:,2]=5\n",
    "print(arr2)\n",
    "\n",
    "arr2[:,2]=[1,2]\n",
    "print(arr2)"
   ]
  }
 ],
 "metadata": {
  "kernelspec": {
   "display_name": "Python 3.10.2 64-bit",
   "language": "python",
   "name": "python3"
  },
  "language_info": {
   "codemirror_mode": {
    "name": "ipython",
    "version": 3
   },
   "file_extension": ".py",
   "mimetype": "text/x-python",
   "name": "python",
   "nbconvert_exporter": "python",
   "pygments_lexer": "ipython3",
   "version": "3.10.2"
  },
  "orig_nbformat": 4,
  "vscode": {
   "interpreter": {
    "hash": "c2ed1c1e3dda2d1d09010f3df351d528d97a393444344645f0fddd23da56b409"
   }
  }
 },
 "nbformat": 4,
 "nbformat_minor": 2
}
